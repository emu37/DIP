{
 "cells": [
  {
   "cell_type": "code",
   "execution_count": 16,
   "id": "138e4ae0",
   "metadata": {},
   "outputs": [
    {
     "name": "stdout",
     "output_type": "stream",
     "text": [
      "Processing complete. Processed 2000 images, failed to process 0 images.\n"
     ]
    }
   ],
   "source": [
    "import cv2\n",
    "import os\n",
    "\n",
    "# Define the directory path for original images and the parent directory\n",
    "original_images_directory = r'C:\\Users\\emu\\Desktop\\Dip Project\\original_images'\n",
    "parent_directory = os.path.dirname(original_images_directory)\n",
    "\n",
    "# Create directories for HR and LR images in the parent directory\n",
    "hr_directory_path = os.path.join(parent_directory, \"hr_images\")\n",
    "lr_directory_path = os.path.join(parent_directory, \"lr_images\")\n",
    "os.makedirs(hr_directory_path, exist_ok=True)\n",
    "os.makedirs(lr_directory_path, exist_ok=True)\n",
    "\n",
    "# Counters for progress tracking\n",
    "processed_images = 0\n",
    "failed_images = 0\n",
    "\n",
    "# Iterate over original images\n",
    "for img_name in os.listdir(original_images_directory):\n",
    "    img_path = os.path.join(original_images_directory, img_name)\n",
    "    \n",
    "    # Check if the item is a file\n",
    "    if os.path.isfile(img_path):\n",
    "        # Attempt to read the image\n",
    "        img_array = cv2.imread(img_path)\n",
    "        \n",
    "        # Check if the image was loaded successfully\n",
    "        if img_array is not None:\n",
    "            # Resize the image to HR size (128x128)\n",
    "            hr_img_array = cv2.resize(img_array, (128, 128))\n",
    "            \n",
    "            # Resize the HR image to LR size (32x32)\n",
    "            lr_img_array = cv2.resize(hr_img_array, (32, 32))\n",
    "            \n",
    "            # Save the HR and LR images\n",
    "            hr_save_path = os.path.join(hr_directory_path, img_name)\n",
    "            lr_save_path = os.path.join(lr_directory_path, img_name)\n",
    "            cv2.imwrite(hr_save_path, hr_img_array)\n",
    "            cv2.imwrite(lr_save_path, lr_img_array)\n",
    "            \n",
    "            # Increment the processed image counter\n",
    "            processed_images += 1\n",
    "        else:\n",
    "            print(f\"Error: Failed to load image '{img_path}'\")\n",
    "            failed_images += 1\n",
    "    else:\n",
    "        print(f\"Skipping '{img_name}' because it's not a file\")\n",
    "        failed_images += 1\n",
    "\n",
    "# Print summary\n",
    "print(f\"Processing complete. Processed {processed_images} images, failed to process {failed_images} images.\")\n"
   ]
  },
  {
   "cell_type": "code",
   "execution_count": null,
   "id": "cb27e03a",
   "metadata": {},
   "outputs": [],
   "source": []
  }
 ],
 "metadata": {
  "kernelspec": {
   "display_name": "Python 3 (ipykernel)",
   "language": "python",
   "name": "python3"
  },
  "language_info": {
   "codemirror_mode": {
    "name": "ipython",
    "version": 3
   },
   "file_extension": ".py",
   "mimetype": "text/x-python",
   "name": "python",
   "nbconvert_exporter": "python",
   "pygments_lexer": "ipython3",
   "version": "3.11.5"
  }
 },
 "nbformat": 4,
 "nbformat_minor": 5
}
